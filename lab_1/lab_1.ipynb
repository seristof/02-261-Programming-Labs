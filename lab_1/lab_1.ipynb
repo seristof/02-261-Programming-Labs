{
 "cells": [
  {
   "cell_type": "markdown",
   "metadata": {},
   "source": [
    "Lab 1: Primer Design for Polymerase Chain Reaction for Tissue\n",
    "Identification\n",
    "\n",
    "Goal: To design PCR reactions to identify contents of mystery tissue samples"
   ]
  },
  {
   "cell_type": "markdown",
   "metadata": {},
   "source": [
    "We take into consideration if a product matches a genome or not, and we also compare the length.\n",
    "We were given three options for creating primer strategies:\n",
    "1. 2 primers:\n",
    "   We have a forward and reverse universl primer that will yield the different length product for each for each animal.\n",
    "2. 4 primers:\n",
    "   We could make one of the primers be a universal forward primer that primes in all species.\n",
    "   We would then have unique reverse primer per species which will each yield different length products. \n",
    "3. 6 primers:\n",
    "   We could make "
   ]
  },
  {
   "cell_type": "code",
   "execution_count": 62,
   "metadata": {},
   "outputs": [
    {
     "name": "stdout",
     "output_type": "stream",
     "text": [
      "pork\n",
      "Seq('ATGACCAACATCCGAAAATCACACCCACTAATAAAAATTATCAACAACGCATTC...ANT')\n",
      "1135\n",
      "beef\n",
      "Seq('ATGACTAACATTCGAAAGTCCCACCCACTAATAAAAATTGTAAACAATGCATTC...AGA')\n",
      "1140\n",
      "chicken\n",
      "Seq('ATGGCACCCAACATTCGAAAATCCCACCCCCTACTAAAAATAATTAACAACTCC...TAA')\n",
      "1143\n",
      "TTATTTATAATACTAATCCTACTAA\n",
      "===============================================\n",
      "CCTTTGCAATCGCAGGTATT\n",
      "===============================================\n",
      "TCCTTCCATTTATCATCATA\n"
     ]
    }
   ],
   "source": [
    "from Bio.SeqUtils import MeltingTemp as mt\n",
    "from Bio.Seq import Seq\n",
    "from Bio import AlignIO\n",
    "\n",
    "seq_records = []\n",
    "for seq_record in SeqIO.parse(\"data/cytochrome_b.fasta\", \"fasta\"):\n",
    "\tprint(seq_record.id)\n",
    "\tprint(repr(seq_record.seq))\n",
    "\tprint(len(seq_record))\n",
    "\tseq_records.append(seq_record)\n",
    "\n",
    "# Extract the gene sequences from the the SeqIO parse\n",
    "chicken_data = seq_records[0].seq\n",
    "pork_data = seq_records[1].seq\n",
    "beef_data = seq_records[2].seq\n",
    "\n",
    "def diff_letters(a,b):\n",
    "    return sum (a[i] != b[i] for i in range(len(a)))\n",
    "\n",
    "def find_valid_temp_substrings(genome, start_index, substring_len): \n",
    "\tsubstring_list = []\n",
    "\tfor i in range(start_index, len(genome)-substring_len):\n",
    "\t\tcurr_substring = (genome[i:i+substring_len]).reverse_complement()\n",
    "\t\tif('N' not in curr_substring and 52.0 <= mt.Tm_Wallace(curr_substring) and 58.0 >= mt.Tm_Wallace(curr_substring)):\n",
    "\t\t\tsubstring_list.append(curr_substring.reverse_complement())\n",
    "\treturn substring_list\n",
    "\n",
    "def check_substring_validity(substring, matching_genome, genome_1, genome_2):\n",
    "\tnum_matches = 0\n",
    "\tfor i in range(len(matching_genome)):\n",
    "\t\tif(matching_genome[i:i+len(substring)] == substring):\n",
    "\t\t\tnum_matches += 1\n",
    "\tif num_matches != 1:\n",
    "\t\treturn False\n",
    "\tfor i in range(len(genome_1)-len(substring)):\n",
    "\t\tif(diff_letters(genome_1[i:i+len(substring)], substring) < 2):\n",
    "\t\t\treturn False\n",
    "\tfor i in range(len(genome_2)-len(substring)):\n",
    "\t\tif(diff_letters(genome_2[i:i+len(substring)], substring) < 2):\n",
    "\t\t\treturn False\n",
    "\treturn True\n",
    "\n",
    "def find_primers(substring_len, matching_genome, genome_1, genome_2, start_index):\n",
    "\tsubstring_list = find_valid_temp_substrings(matching_genome, start_index, substring_len)\n",
    "\tvalid_outputs = []\n",
    "\tfor i in range(len(substring_list)):\n",
    "\t\tif(check_substring_validity(substring_list[i], matching_genome, genome_1, genome_2)): \n",
    "\t\t\tvalid_outputs.append(substring_list[i])\n",
    "\tif len(valid_outputs) > 0:\n",
    "\t\treturn valid_outputs[0]\n",
    "\telse:\n",
    "\t\treturn \"\"\n",
    "\n",
    "print(find_primers(25, chicken_data, beef_data, pork_data, 550))\n",
    "print(\"=======================================================\")\n",
    "print(find_primers(20, beef_data, chicken_data, pork_data, 550))\n",
    "print(\"=======================================================\")\n",
    "print(find_primers(20, pork_data, chicken_data, beef_data, 550))"
   ]
  },
  {
   "cell_type": "code",
   "execution_count": null,
   "metadata": {},
   "outputs": [],
   "source": []
  },
  {
   "cell_type": "code",
   "execution_count": null,
   "metadata": {},
   "outputs": [],
   "source": []
  }
 ],
 "metadata": {
  "interpreter": {
   "hash": "752579dbebe7f4dfe7c1aa72eac13e23fc88be2cc1ea7ab14e1f8d69b2d97d12"
  },
  "kernelspec": {
   "display_name": "",
   "language": "python",
   "name": "python3"
  },
  "language_info": {
   "name": "python",
   "version": "3.8.10"
  },
  "orig_nbformat": 4
 },
 "nbformat": 4,
 "nbformat_minor": 2
}
