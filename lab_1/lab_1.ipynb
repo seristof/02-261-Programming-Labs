{
 "cells": [
  {
   "cell_type": "markdown",
   "metadata": {},
   "source": [
    "## Lab 1: Primer Design for Polymerase Chain Reaction for Tissue Identification\n",
    "\n",
    "### Goal: To design PCR reactions to identify contents of mystery tissue samples"
   ]
  },
  {
   "cell_type": "markdown",
   "metadata": {},
   "source": [
    "### Different Primer Strategies\n",
    "We take into consideration if a product matches a genome or not, and we also compare the length.\n",
    "We were given three options for creating primer strategies:\n",
    "1. 2 primers:\n",
    "   We have a forward and reverse universal primer that will yield the different length product for each for each animal.\n",
    "2. 4 primers:\n",
    "   We could make one of the primers be a universal forward primer that primes in all species.\n",
    "   We would then have unique reverse primer per species which will each yield different length products. \n",
    "3. 6 primers:\n",
    "   We could make the primers\n",
    "\n",
    "Our lab group decided to do the 4 primer method."
   ]
  },
  {
   "cell_type": "markdown",
   "metadata": {},
   "source": [
    "### Finding Our Universal Primer\n",
    "To find the universal primer, we manually looked through the clustal sequence alignment file of the three gene sequences provided to find a contiguous substring of length 20 which would only have one mismatch between the three gene sequences.\n",
    "\n",
    "We were able to find the universal substring as the following: \"CAAATATCATTCTGAGG-GC\".\n",
    "The universal substring has a length of 20.\n",
    "The universal substring starts (non-zero indexed) at position 408 of the pork and beef gene sequence and at position 411 of the chicken sequence. \n",
    "\n",
    "We decided to make the mismatch position (again, we enabled one mismatch for the universal primer) a gap nucleotide. Another option would be to make it the most frequent nucleotide appearing in that differing region, which was 'G', but we decided to make it a gap nucleotide."
   ]
  },
  {
   "cell_type": "markdown",
   "metadata": {},
   "source": [
    "### Finding Our Unique Primers\n",
    "Then, to find our unique primers, we firstly loaded the three organism's gene sequences from our given FASTA file using the Biopython package.\n",
    "\n",
    "Then, as instructed by the lab handout, we found primer sequences with the following requirements:\n",
    "1. Primers should be 20-25 bases long.\n",
    "2. Your PCR products should be between 90 and 1000 bases in length.\n",
    "3. Your primers should have a melting temperature between 52 and 58 C.\n",
    "4. Your primers should have less than 95% similarity with others substrings in the other gene sequences.\n",
    "\n",
    "Please look at the code comments below to see which of the different requirements the code accounted for."
   ]
  },
  {
   "cell_type": "code",
   "execution_count": 72,
   "metadata": {},
   "outputs": [
    {
     "name": "stdout",
     "output_type": "stream",
     "text": [
      "Chicken Primer Sequence:  AGTAATACCTGCGATTGCAAA\n",
      "=======================================================\n",
      "Beef Primer Sequence:  TATGCAAATAGGAAGTACCAC\n",
      "=======================================================\n",
      "Pork Primer Sequence:  AATAGGCATTGACTTAGTGGT\n"
     ]
    }
   ],
   "source": [
    "from Bio.SeqUtils import MeltingTemp as mt\n",
    "from Bio.Seq import Seq\n",
    "universal_primer = \"CAAATATCATTCTGAGG-GC\" \n",
    "\n",
    "seq_records = []\n",
    "# Loading three organism's gene sequences from our given FASTA file\n",
    "for seq_record in SeqIO.parse(\"data/cytochrome_b.fasta\", \"fasta\"):\n",
    "\tseq_records.append(seq_record)\n",
    "\n",
    "# Extract the gene sequences from the the SeqIO parse\n",
    "pork_data = seq_records[0].seq\n",
    "beef_data = seq_records[1].seq\n",
    "chicken_data = seq_records[2].seq\n",
    "\n",
    "# diff_letters account the number of different letters from two string inputs of the same length\n",
    "def diff_letters(a,b):\n",
    "    return sum (a[i] != b[i] for i in range(len(a)))\n",
    "\n",
    "# find_valid_temp_substrings ranges through a gene sequence to find substrings of length substring_len that meet \n",
    "# requirement 3.\n",
    "def find_valid_temp_substrings(gene_sequence, start_index, substring_len): \n",
    "\tsubstring_list = []\n",
    "\tfor i in range(start_index, len(gene_sequence)-substring_len):\n",
    "\t\tcurr_substring = (gene_sequence[i:i+substring_len]).reverse_complement()\n",
    "\t\tif('N' not in curr_substring and 52.0 <= mt.Tm_Wallace(curr_substring) and 58.0 >= mt.Tm_Wallace(curr_substring)):\n",
    "\t\t\tsubstring_list.append((curr_substring.reverse_complement()))\n",
    "\treturn substring_list\n",
    "\n",
    "# check_substring_validity checks if a substring is a valid substring by firstly checking that there exists\n",
    "# one primer sequence that matches the string in the genome and requirement 4.\n",
    "def check_substring_validity(substring, threshold, matching_gene_sequence, gene_sequence_1, gene_sequence_2):\n",
    "\tnum_matches = 0\n",
    "\tfor i in range(len(matching_gene_sequence)):\n",
    "\t\tif(diff_letters(matching_gene_sequence[i:i+len(substring)], substring) < threshold):\n",
    "\t\t\tnum_matches += 1\n",
    "\tif num_matches != 1:\n",
    "\t\treturn False\n",
    "\tfor i in range(len(gene_sequence_1)-len(substring)):\n",
    "\t\tif(diff_letters(gene_sequence_1[i:i+len(substring)], substring) < threshold):\n",
    "\t\t\treturn False\n",
    "\tfor i in range(len(gene_sequence_2)-len(substring)):\n",
    "\t\tif(diff_letters(gene_sequence_2[i:i+len(substring)], substring) < threshold):\n",
    "\t\t\treturn False\n",
    "\treturn True\n",
    "\n",
    "# find_primers finds the valid primers for a genome with a given length and two genomes that we would not like to have\n",
    "# similarity with from the start_index of our genome of interest \n",
    "def find_primers(substring_len, threshold, matching_gene_sequence, gene_sequence_1, gene_sequence_2, start_index):\n",
    "\tsubstring_list = find_valid_temp_substrings(matching_gene_sequence, start_index, substring_len)\n",
    "\tvalid_outputs = []\n",
    "\tfor i in range(len(substring_list)):\n",
    "\t\tif(check_substring_validity(substring_list[i], threshold, matching_gene_sequence, gene_sequence_1, gene_sequence_2)): \n",
    "\t\t\tvalid_outputs.append(substring_list[i])\n",
    "\tif len(valid_outputs) > 0:\n",
    "\t\treturn valid_outputs[0].reverse_complement()\n",
    "\telse:\n",
    "\t\treturn \"\"\n",
    "\n",
    "# By declaring different start indices that are greater than 100 nucleotides from the universal primer, we ensure\n",
    "# that we meet requirement 2.\n",
    "# We also meet requirement 1. by specifying the length of primers to be 21 base pairs for all find_primer() calls\n",
    "print(\"Chicken Primer Sequence: \", find_primers(21, 1, chicken_data, beef_data, pork_data, 550))\n",
    "print(\"=======================================================\")\n",
    "print(\"Beef Primer Sequence: \", find_primers(21, 1, beef_data, chicken_data, pork_data, 750))\n",
    "print(\"=======================================================\")\n",
    "print(\"Pork Primer Sequence: \", find_primers(21, 1, pork_data, chicken_data, beef_data, 950))"
   ]
  },
  {
   "cell_type": "markdown",
   "metadata": {},
   "source": [
    "### Primer Figure\n",
    "Figure Assignment:\n",
    "Design a figure to show how your experiment will work with your designed\n",
    "primers. Consider showing the products expected from each PCR reaction you \n",
    "would run. There are no conclusions for this figure, but you may have made\n",
    "concessions in your design that would cause potential errors. If you are aware\n",
    "of any potential sources of errors, describe them.\n",
    "\n",
    "CAPTION: TO BE DONE INDIVIDUALLY"
   ]
  },
  {
   "cell_type": "markdown",
   "metadata": {},
   "source": [
    "### Experimental Design\n",
    "TO BE DONE INDIVIDUALLY"
   ]
  },
  {
   "cell_type": "markdown",
   "metadata": {},
   "source": [
    "### Potential Sources of Error\n",
    "Some potential sources of error is the temperature range the primers will be able to withstand. We decided to choose using the Wallace (\"Rule of Thumb\") method of approximating the temperature resistance of the primers. There are two other methods provided by the BioPython package that we could have used:\n",
    "1. Estimating melting temperature point based on GC content, which would include salt and mismatch corrections\n",
    "2. Estimating melting temperature point based on thermodynamic nearest neighbors\n",
    "\n",
    "We decided to chose the Wallace method because it allowed for the largest number of primer sequences to be included. If one of the methods is a better estimator of temperature range, then we would have chosen that method in favor for the Wallace method, but we ultimately choose the Wallace method because it is listed as the \"Rule of Thumb\" method.\n",
    "\n",
    "Another potential source of error is not having access to the other suggested alignments for the three gene sequences. If there is a equal alignment in terms of scoring, but the provided FASTA file isn't the optimal alignment, then we may not have differences in the length of the PCR product.\n",
    "\n",
    "A third potential source of error is not making the difference in the lengths of the PCR product distinct enough. "
   ]
  }
 ],
 "metadata": {
  "interpreter": {
   "hash": "752579dbebe7f4dfe7c1aa72eac13e23fc88be2cc1ea7ab14e1f8d69b2d97d12"
  },
  "kernelspec": {
   "display_name": "",
   "language": "python",
   "name": "python3"
  },
  "language_info": {
   "name": "python",
   "version": "3.8.10"
  },
  "orig_nbformat": 4
 },
 "nbformat": 4,
 "nbformat_minor": 2
}
